{
 "cells": [
  {
   "cell_type": "markdown",
   "id": "1e78f818",
   "metadata": {},
   "source": [
    "# Machine Learning Pipeline"
   ]
  },
  {
   "cell_type": "code",
   "execution_count": 1,
   "id": "a79811b9",
   "metadata": {},
   "outputs": [],
   "source": [
    "from pyspark.sql import SparkSession, functions as F\n",
    "import findspark\n",
    "import pandas as pd\n",
    "\n",
    "findspark.init(\"C:\\Program Files\\Spark\\spark-3.3.1-bin-hadoop3\")"
   ]
  },
  {
   "cell_type": "code",
   "execution_count": 2,
   "id": "17b8e400",
   "metadata": {},
   "outputs": [],
   "source": [
    "df = pd.read_parquet(\"datasets/diabetes_extraction.parquet\")"
   ]
  },
  {
   "cell_type": "code",
   "execution_count": 3,
   "id": "c2c7f953",
   "metadata": {},
   "outputs": [
    {
     "data": {
      "text/html": [
       "<div>\n",
       "<style scoped>\n",
       "    .dataframe tbody tr th:only-of-type {\n",
       "        vertical-align: middle;\n",
       "    }\n",
       "\n",
       "    .dataframe tbody tr th {\n",
       "        vertical-align: top;\n",
       "    }\n",
       "\n",
       "    .dataframe thead th {\n",
       "        text-align: right;\n",
       "    }\n",
       "</style>\n",
       "<table border=\"1\" class=\"dataframe\">\n",
       "  <thead>\n",
       "    <tr style=\"text-align: right;\">\n",
       "      <th></th>\n",
       "      <th>Pregnancies</th>\n",
       "      <th>Glucose</th>\n",
       "      <th>BloodPressure</th>\n",
       "      <th>SkinThickness</th>\n",
       "      <th>Insulin</th>\n",
       "      <th>BMI</th>\n",
       "      <th>DiabetesPedigreeFunction</th>\n",
       "      <th>Age</th>\n",
       "      <th>Outcome</th>\n",
       "      <th>Age_Stages</th>\n",
       "      <th>BMI_Stages</th>\n",
       "      <th>Glucose_Health_Stages</th>\n",
       "      <th>Insulin_Health_Stages</th>\n",
       "      <th>BloodPressure_Stages</th>\n",
       "      <th>BP_Health_Stages</th>\n",
       "      <th>BMI_Health_Stages</th>\n",
       "      <th>Health_Ratio</th>\n",
       "    </tr>\n",
       "  </thead>\n",
       "  <tbody>\n",
       "    <tr>\n",
       "      <th>0</th>\n",
       "      <td>6</td>\n",
       "      <td>148.0</td>\n",
       "      <td>72.0</td>\n",
       "      <td>35.000000</td>\n",
       "      <td>202.035714</td>\n",
       "      <td>33.6</td>\n",
       "      <td>0.627</td>\n",
       "      <td>50</td>\n",
       "      <td>1</td>\n",
       "      <td>late_adult</td>\n",
       "      <td>obesity</td>\n",
       "      <td>0</td>\n",
       "      <td>0</td>\n",
       "      <td>normal</td>\n",
       "      <td>1</td>\n",
       "      <td>0</td>\n",
       "      <td>25.0</td>\n",
       "    </tr>\n",
       "    <tr>\n",
       "      <th>1</th>\n",
       "      <td>1</td>\n",
       "      <td>85.0</td>\n",
       "      <td>66.0</td>\n",
       "      <td>29.000000</td>\n",
       "      <td>85.285714</td>\n",
       "      <td>26.6</td>\n",
       "      <td>0.351</td>\n",
       "      <td>31</td>\n",
       "      <td>0</td>\n",
       "      <td>middle_adult</td>\n",
       "      <td>overweight</td>\n",
       "      <td>1</td>\n",
       "      <td>1</td>\n",
       "      <td>normal</td>\n",
       "      <td>1</td>\n",
       "      <td>0</td>\n",
       "      <td>75.0</td>\n",
       "    </tr>\n",
       "    <tr>\n",
       "      <th>2</th>\n",
       "      <td>8</td>\n",
       "      <td>183.0</td>\n",
       "      <td>64.0</td>\n",
       "      <td>25.178571</td>\n",
       "      <td>225.250000</td>\n",
       "      <td>23.3</td>\n",
       "      <td>0.672</td>\n",
       "      <td>32</td>\n",
       "      <td>1</td>\n",
       "      <td>middle_adult</td>\n",
       "      <td>healthweight</td>\n",
       "      <td>0</td>\n",
       "      <td>0</td>\n",
       "      <td>normal</td>\n",
       "      <td>1</td>\n",
       "      <td>1</td>\n",
       "      <td>50.0</td>\n",
       "    </tr>\n",
       "    <tr>\n",
       "      <th>3</th>\n",
       "      <td>1</td>\n",
       "      <td>89.0</td>\n",
       "      <td>66.0</td>\n",
       "      <td>23.000000</td>\n",
       "      <td>94.000000</td>\n",
       "      <td>28.1</td>\n",
       "      <td>0.167</td>\n",
       "      <td>21</td>\n",
       "      <td>0</td>\n",
       "      <td>early_adult</td>\n",
       "      <td>overweight</td>\n",
       "      <td>1</td>\n",
       "      <td>1</td>\n",
       "      <td>normal</td>\n",
       "      <td>1</td>\n",
       "      <td>0</td>\n",
       "      <td>75.0</td>\n",
       "    </tr>\n",
       "    <tr>\n",
       "      <th>4</th>\n",
       "      <td>0</td>\n",
       "      <td>137.0</td>\n",
       "      <td>40.0</td>\n",
       "      <td>35.000000</td>\n",
       "      <td>168.000000</td>\n",
       "      <td>43.1</td>\n",
       "      <td>2.288</td>\n",
       "      <td>33</td>\n",
       "      <td>1</td>\n",
       "      <td>middle_adult</td>\n",
       "      <td>obesity</td>\n",
       "      <td>1</td>\n",
       "      <td>0</td>\n",
       "      <td>low</td>\n",
       "      <td>0</td>\n",
       "      <td>0</td>\n",
       "      <td>25.0</td>\n",
       "    </tr>\n",
       "  </tbody>\n",
       "</table>\n",
       "</div>"
      ],
      "text/plain": [
       "   Pregnancies  Glucose  ...  BMI_Health_Stages  Health_Ratio\n",
       "0            6    148.0  ...                  0          25.0\n",
       "1            1     85.0  ...                  0          75.0\n",
       "2            8    183.0  ...                  1          50.0\n",
       "3            1     89.0  ...                  0          75.0\n",
       "4            0    137.0  ...                  0          25.0\n",
       "\n",
       "[5 rows x 17 columns]"
      ]
     },
     "execution_count": 3,
     "metadata": {},
     "output_type": "execute_result"
    }
   ],
   "source": [
    "df.head()"
   ]
  },
  {
   "cell_type": "code",
   "execution_count": 33,
   "id": "2bc03bc3",
   "metadata": {},
   "outputs": [],
   "source": [
    "from feature_utils import get_columns_type"
   ]
  },
  {
   "cell_type": "code",
   "execution_count": 34,
   "id": "8f637e3f",
   "metadata": {},
   "outputs": [],
   "source": [
    "miss_df = pd.read_parquet(\"datasets/diabets_non_null.parquet\")"
   ]
  },
  {
   "cell_type": "code",
   "execution_count": 35,
   "id": "758d7800",
   "metadata": {},
   "outputs": [
    {
     "name": "stdout",
     "output_type": "stream",
     "text": [
      "2023-03-13 01:14:28,724 - logging_utils - DEBUG - get_columns_type executing...\n",
      "2023-03-13 01:14:28,728 - logging_utils - INFO - \n",
      "Numeric Columns: ['Pregnancies', 'Glucose', 'BloodPressure', 'SkinThickness', 'Insulin', 'BMI', 'DiabetesPedigreeFunction', 'Age', 'Outcome']\n",
      "Categoric Columns: []\n",
      "Cardinal Columns: []\n"
     ]
    }
   ],
   "source": [
    "numeric_cols, categoric_cols, cardinal_cols = get_columns_type(miss_df, categoric_threshold=2)"
   ]
  },
  {
   "cell_type": "code",
   "execution_count": 36,
   "id": "184e06c8",
   "metadata": {},
   "outputs": [],
   "source": [
    "numeric_cols = [col for col in numeric_cols if col != \"Outcome\"]"
   ]
  },
  {
   "cell_type": "markdown",
   "id": "f07c4f91",
   "metadata": {},
   "source": [
    "# Control"
   ]
  },
  {
   "cell_type": "code",
   "execution_count": 10,
   "id": "2fb3cf36",
   "metadata": {},
   "outputs": [],
   "source": [
    "df = df[['Pregnancies', 'Glucose', 'BloodPressure', 'SkinThickness', 'Insulin', 'BMI', 'DiabetesPedigreeFunction', 'Age', 'Outcome',\n",
    "        'BloodPressure_Stages', \"Insulin_Health_Stages\"]]"
   ]
  },
  {
   "cell_type": "markdown",
   "id": "4d33fc4d",
   "metadata": {},
   "source": [
    "## Seperating Columns for Type"
   ]
  },
  {
   "cell_type": "code",
   "execution_count": 11,
   "id": "019b5cf1",
   "metadata": {},
   "outputs": [
    {
     "name": "stdout",
     "output_type": "stream",
     "text": [
      "2023-03-13 01:12:56,928 - logging_utils - DEBUG - get_columns_type executing...\n",
      "2023-03-13 01:12:56,930 - logging_utils - INFO - \n",
      "Numeric Columns: ['Pregnancies', 'Glucose', 'BloodPressure', 'SkinThickness', 'Insulin', 'BMI', 'DiabetesPedigreeFunction', 'Age', 'Outcome', 'Insulin_Health_Stages']\n",
      "Categoric Columns: ['BloodPressure_Stages']\n",
      "Cardinal Columns: []\n"
     ]
    }
   ],
   "source": [
    "numeric_cols, categoric_cols, cardinal_cols = get_columns_type(df, categoric_threshold=2)"
   ]
  },
  {
   "cell_type": "code",
   "execution_count": 12,
   "id": "ba3f0465",
   "metadata": {},
   "outputs": [],
   "source": [
    "numeric_cols = [col for col in numeric_cols if col != \"Outcome\"]"
   ]
  },
  {
   "cell_type": "code",
   "execution_count": 13,
   "id": "870d7f75",
   "metadata": {},
   "outputs": [],
   "source": [
    "target = \"Outcome\""
   ]
  },
  {
   "cell_type": "markdown",
   "id": "1cb1627c",
   "metadata": {},
   "source": [
    "## Create Model"
   ]
  },
  {
   "cell_type": "markdown",
   "id": "1f2d8f99",
   "metadata": {},
   "source": [
    "## One Hot Encoder"
   ]
  },
  {
   "cell_type": "code",
   "execution_count": 14,
   "id": "d06ec868",
   "metadata": {},
   "outputs": [],
   "source": [
    "df = pd.get_dummies(df, columns=categoric_cols, drop_first=True)"
   ]
  },
  {
   "cell_type": "code",
   "execution_count": 15,
   "id": "b0953d49",
   "metadata": {},
   "outputs": [
    {
     "data": {
      "text/html": [
       "<div>\n",
       "<style scoped>\n",
       "    .dataframe tbody tr th:only-of-type {\n",
       "        vertical-align: middle;\n",
       "    }\n",
       "\n",
       "    .dataframe tbody tr th {\n",
       "        vertical-align: top;\n",
       "    }\n",
       "\n",
       "    .dataframe thead th {\n",
       "        text-align: right;\n",
       "    }\n",
       "</style>\n",
       "<table border=\"1\" class=\"dataframe\">\n",
       "  <thead>\n",
       "    <tr style=\"text-align: right;\">\n",
       "      <th></th>\n",
       "      <th>Pregnancies</th>\n",
       "      <th>Glucose</th>\n",
       "      <th>BloodPressure</th>\n",
       "      <th>SkinThickness</th>\n",
       "      <th>Insulin</th>\n",
       "      <th>BMI</th>\n",
       "      <th>DiabetesPedigreeFunction</th>\n",
       "      <th>Age</th>\n",
       "      <th>Outcome</th>\n",
       "      <th>Insulin_Health_Stages</th>\n",
       "      <th>BloodPressure_Stages_hypertension_1</th>\n",
       "      <th>BloodPressure_Stages_hypertension_2</th>\n",
       "      <th>BloodPressure_Stages_low</th>\n",
       "      <th>BloodPressure_Stages_normal</th>\n",
       "      <th>BloodPressure_Stages_prehypertension</th>\n",
       "    </tr>\n",
       "  </thead>\n",
       "  <tbody>\n",
       "    <tr>\n",
       "      <th>0</th>\n",
       "      <td>6</td>\n",
       "      <td>148.0</td>\n",
       "      <td>72.0</td>\n",
       "      <td>35.000000</td>\n",
       "      <td>202.035714</td>\n",
       "      <td>33.6</td>\n",
       "      <td>0.627</td>\n",
       "      <td>50</td>\n",
       "      <td>1</td>\n",
       "      <td>0</td>\n",
       "      <td>0</td>\n",
       "      <td>0</td>\n",
       "      <td>0</td>\n",
       "      <td>1</td>\n",
       "      <td>0</td>\n",
       "    </tr>\n",
       "    <tr>\n",
       "      <th>1</th>\n",
       "      <td>1</td>\n",
       "      <td>85.0</td>\n",
       "      <td>66.0</td>\n",
       "      <td>29.000000</td>\n",
       "      <td>85.285714</td>\n",
       "      <td>26.6</td>\n",
       "      <td>0.351</td>\n",
       "      <td>31</td>\n",
       "      <td>0</td>\n",
       "      <td>1</td>\n",
       "      <td>0</td>\n",
       "      <td>0</td>\n",
       "      <td>0</td>\n",
       "      <td>1</td>\n",
       "      <td>0</td>\n",
       "    </tr>\n",
       "    <tr>\n",
       "      <th>2</th>\n",
       "      <td>8</td>\n",
       "      <td>183.0</td>\n",
       "      <td>64.0</td>\n",
       "      <td>25.178571</td>\n",
       "      <td>225.250000</td>\n",
       "      <td>23.3</td>\n",
       "      <td>0.672</td>\n",
       "      <td>32</td>\n",
       "      <td>1</td>\n",
       "      <td>0</td>\n",
       "      <td>0</td>\n",
       "      <td>0</td>\n",
       "      <td>0</td>\n",
       "      <td>1</td>\n",
       "      <td>0</td>\n",
       "    </tr>\n",
       "    <tr>\n",
       "      <th>3</th>\n",
       "      <td>1</td>\n",
       "      <td>89.0</td>\n",
       "      <td>66.0</td>\n",
       "      <td>23.000000</td>\n",
       "      <td>94.000000</td>\n",
       "      <td>28.1</td>\n",
       "      <td>0.167</td>\n",
       "      <td>21</td>\n",
       "      <td>0</td>\n",
       "      <td>1</td>\n",
       "      <td>0</td>\n",
       "      <td>0</td>\n",
       "      <td>0</td>\n",
       "      <td>1</td>\n",
       "      <td>0</td>\n",
       "    </tr>\n",
       "    <tr>\n",
       "      <th>4</th>\n",
       "      <td>0</td>\n",
       "      <td>137.0</td>\n",
       "      <td>40.0</td>\n",
       "      <td>35.000000</td>\n",
       "      <td>168.000000</td>\n",
       "      <td>43.1</td>\n",
       "      <td>2.288</td>\n",
       "      <td>33</td>\n",
       "      <td>1</td>\n",
       "      <td>0</td>\n",
       "      <td>0</td>\n",
       "      <td>0</td>\n",
       "      <td>1</td>\n",
       "      <td>0</td>\n",
       "      <td>0</td>\n",
       "    </tr>\n",
       "  </tbody>\n",
       "</table>\n",
       "</div>"
      ],
      "text/plain": [
       "   Pregnancies  ...  BloodPressure_Stages_prehypertension\n",
       "0            6  ...                                     0\n",
       "1            1  ...                                     0\n",
       "2            8  ...                                     0\n",
       "3            1  ...                                     0\n",
       "4            0  ...                                     0\n",
       "\n",
       "[5 rows x 15 columns]"
      ]
     },
     "execution_count": 15,
     "metadata": {},
     "output_type": "execute_result"
    }
   ],
   "source": [
    "df.head()"
   ]
  },
  {
   "cell_type": "code",
   "execution_count": 16,
   "id": "0e77f003",
   "metadata": {},
   "outputs": [
    {
     "name": "stdout",
     "output_type": "stream",
     "text": [
      "2023-03-13 01:13:05,063 - logging_utils - DEBUG - get_columns_type executing...\n",
      "2023-03-13 01:13:05,065 - logging_utils - INFO - \n",
      "Numeric Columns: ['Pregnancies', 'Glucose', 'BloodPressure', 'SkinThickness', 'Insulin', 'BMI', 'DiabetesPedigreeFunction', 'Age', 'Outcome', 'Insulin_Health_Stages', 'BloodPressure_Stages_hypertension_1', 'BloodPressure_Stages_hypertension_2', 'BloodPressure_Stages_low', 'BloodPressure_Stages_normal', 'BloodPressure_Stages_prehypertension']\n",
      "Categoric Columns: []\n",
      "Cardinal Columns: []\n"
     ]
    }
   ],
   "source": [
    "numeric_cols, categoric_cols, cardinal_cols = get_columns_type(df, categoric_threshold=2)"
   ]
  },
  {
   "cell_type": "code",
   "execution_count": 17,
   "id": "b462430a",
   "metadata": {},
   "outputs": [],
   "source": [
    "numeric_cols = [col for col in numeric_cols if col != \"Outcome\"]"
   ]
  },
  {
   "cell_type": "markdown",
   "id": "c3f020a4",
   "metadata": {},
   "source": [
    "### Vector Assembler"
   ]
  },
  {
   "cell_type": "code",
   "execution_count": 18,
   "id": "2fc95f6a",
   "metadata": {},
   "outputs": [],
   "source": [
    "spark = SparkSession.builder \\\n",
    "    .appName(\"Diabetes Classification\") \\\n",
    "    .master(\"local[2]\") \\\n",
    "    .config(\"spark.sql.shuffle.partitions\", \"2\") \\\n",
    "    .getOrCreate()"
   ]
  },
  {
   "cell_type": "code",
   "execution_count": 19,
   "id": "d988815c",
   "metadata": {},
   "outputs": [],
   "source": [
    "from pyspark.ml.feature import VectorAssembler"
   ]
  },
  {
   "cell_type": "code",
   "execution_count": 37,
   "id": "8d01275b",
   "metadata": {},
   "outputs": [],
   "source": [
    "assembler = VectorAssembler() \\\n",
    "    .setHandleInvalid(\"skip\") \\\n",
    "    .setInputCols(numeric_cols) \\\n",
    "    .setOutputCol(\"unscaled_features\")"
   ]
  },
  {
   "cell_type": "markdown",
   "id": "47267e1b",
   "metadata": {},
   "source": [
    "### Scale"
   ]
  },
  {
   "cell_type": "code",
   "execution_count": 21,
   "id": "9e161c0a",
   "metadata": {},
   "outputs": [],
   "source": [
    "from pyspark.ml.feature import RobustScaler"
   ]
  },
  {
   "cell_type": "code",
   "execution_count": 38,
   "id": "50e9e6ad",
   "metadata": {},
   "outputs": [],
   "source": [
    "scaler = RobustScaler() \\\n",
    "    .setInputCol(\"unscaled_features\") \\\n",
    "    .setOutputCol(\"features\")"
   ]
  },
  {
   "cell_type": "markdown",
   "id": "4758664f",
   "metadata": {},
   "source": [
    "### Estimator"
   ]
  },
  {
   "cell_type": "code",
   "execution_count": 23,
   "id": "688472f6",
   "metadata": {},
   "outputs": [],
   "source": [
    "from pyspark.ml.classification import GBTClassifier"
   ]
  },
  {
   "cell_type": "code",
   "execution_count": 39,
   "id": "7ece5a73",
   "metadata": {},
   "outputs": [],
   "source": [
    "estimator = GBTClassifier() \\\n",
    "    .setFeaturesCol(\"features\") \\\n",
    "    .setLabelCol(target)"
   ]
  },
  {
   "cell_type": "markdown",
   "id": "8bec540b",
   "metadata": {},
   "source": [
    "### Pipeline"
   ]
  },
  {
   "cell_type": "code",
   "execution_count": 25,
   "id": "dfde1885",
   "metadata": {},
   "outputs": [],
   "source": [
    "from pyspark.ml import Pipeline"
   ]
  },
  {
   "cell_type": "code",
   "execution_count": 40,
   "id": "04a77de4",
   "metadata": {},
   "outputs": [],
   "source": [
    "pipeline_obj = Pipeline() \\\n",
    "    .setStages([assembler, scaler, estimator])"
   ]
  },
  {
   "cell_type": "markdown",
   "id": "945963d9",
   "metadata": {},
   "source": [
    "### Model"
   ]
  },
  {
   "cell_type": "code",
   "execution_count": 27,
   "id": "460b4490",
   "metadata": {},
   "outputs": [],
   "source": [
    "from pyspark.ml.evaluation import BinaryClassificationEvaluator"
   ]
  },
  {
   "cell_type": "code",
   "execution_count": 41,
   "id": "d37271e0",
   "metadata": {},
   "outputs": [],
   "source": [
    "evaluator = BinaryClassificationEvaluator(labelCol=target)"
   ]
  },
  {
   "cell_type": "code",
   "execution_count": 29,
   "id": "693cf9a7",
   "metadata": {},
   "outputs": [],
   "source": [
    "def get_score(df, evaluator):\n",
    "    spark_df = spark.createDataFrame(df)\n",
    "    \n",
    "    train_df, test_df = spark_df.randomSplit([.8, .2], seed=142)\n",
    "    \n",
    "    pipeline_model = pipeline_obj.fit(train_df)\n",
    "    transformed_df = pipeline_model.transform(test_df)\n",
    "    \n",
    "    print(\"Score: \", evaluator.evaluate(transformed_df)) \n",
    "    \n",
    "    return transformed_df"
   ]
  },
  {
   "cell_type": "markdown",
   "id": "2b792dde",
   "metadata": {},
   "source": [
    "# Final Data"
   ]
  },
  {
   "cell_type": "code",
   "execution_count": 30,
   "id": "d584c8df",
   "metadata": {},
   "outputs": [
    {
     "name": "stderr",
     "output_type": "stream",
     "text": [
      "C:\\Users\\talha\\anaconda3\\lib\\site-packages\\pyspark\\sql\\pandas\\conversion.py:371: FutureWarning: iteritems is deprecated and will be removed in a future version. Use .items instead.\n",
      "  for column, series in pdf.iteritems():\n"
     ]
    },
    {
     "name": "stdout",
     "output_type": "stream",
     "text": [
      "Score:  0.8594669435790931\n"
     ]
    }
   ],
   "source": [
    "tranformed_df = get_score(df, evaluator)"
   ]
  },
  {
   "cell_type": "code",
   "execution_count": 31,
   "id": "4fca216d",
   "metadata": {},
   "outputs": [
    {
     "name": "stdout",
     "output_type": "stream",
     "text": [
      "+-------+----------+\n",
      "|Outcome|prediction|\n",
      "+-------+----------+\n",
      "|      0|       0.0|\n",
      "|      0|       0.0|\n",
      "|      0|       0.0|\n",
      "|      0|       0.0|\n",
      "|      0|       0.0|\n",
      "|      0|       0.0|\n",
      "|      0|       0.0|\n",
      "|      0|       0.0|\n",
      "|      0|       0.0|\n",
      "|      0|       1.0|\n",
      "|      1|       1.0|\n",
      "|      1|       1.0|\n",
      "|      0|       0.0|\n",
      "|      0|       0.0|\n",
      "|      0|       0.0|\n",
      "|      1|       0.0|\n",
      "|      1|       1.0|\n",
      "|      0|       0.0|\n",
      "|      0|       0.0|\n",
      "|      1|       1.0|\n",
      "+-------+----------+\n",
      "only showing top 20 rows\n",
      "\n"
     ]
    }
   ],
   "source": [
    "tranformed_df.select(\"Outcome\", \"prediction\").show()"
   ]
  },
  {
   "cell_type": "markdown",
   "id": "fa947df3",
   "metadata": {},
   "source": [
    "# Original Data"
   ]
  },
  {
   "cell_type": "code",
   "execution_count": 43,
   "id": "cd78bd6f",
   "metadata": {},
   "outputs": [
    {
     "name": "stderr",
     "output_type": "stream",
     "text": [
      "C:\\Users\\talha\\anaconda3\\lib\\site-packages\\pyspark\\sql\\pandas\\conversion.py:371: FutureWarning: iteritems is deprecated and will be removed in a future version. Use .items instead.\n",
      "  for column, series in pdf.iteritems():\n"
     ]
    },
    {
     "name": "stdout",
     "output_type": "stream",
     "text": [
      "Score:  0.8413379073756432\n"
     ]
    }
   ],
   "source": [
    "tranformed_df = get_score(pd.read_csv(\"datasets/diabetes.csv\"), evaluator)"
   ]
  },
  {
   "cell_type": "code",
   "execution_count": 44,
   "id": "e584d361",
   "metadata": {},
   "outputs": [],
   "source": [
    "spark.stop()"
   ]
  },
  {
   "cell_type": "markdown",
   "id": "eb4c5ef3",
   "metadata": {},
   "source": [
    "<div class=\"alert alert-block alert-info\"> <b>Final:</b> Accuracy increased <b>0.8413379073756432<b> to <b>0.8594669435790931<b> </div>"
   ]
  }
 ],
 "metadata": {
  "kernelspec": {
   "display_name": "Python 3 (Spyder)",
   "language": "python3",
   "name": "python3"
  },
  "language_info": {
   "codemirror_mode": {
    "name": "ipython",
    "version": 3
   },
   "file_extension": ".py",
   "mimetype": "text/x-python",
   "name": "python",
   "nbconvert_exporter": "python",
   "pygments_lexer": "ipython3",
   "version": "3.9.13"
  }
 },
 "nbformat": 4,
 "nbformat_minor": 5
}
